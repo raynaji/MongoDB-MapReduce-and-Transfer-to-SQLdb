{
 "cells": [
  {
   "cell_type": "markdown",
   "metadata": {},
   "source": [
    "# Install, Configure and Connect MongoDB on Macbook"
   ]
  },
  {
   "cell_type": "markdown",
   "metadata": {},
   "source": [
    "**By Rayna Ji**"
   ]
  },
  {
   "cell_type": "markdown",
   "metadata": {},
   "source": [
    "## Download from website and install"
   ]
  },
  {
   "cell_type": "markdown",
   "metadata": {},
   "source": [
    "Visit the <a href = \"https://www.mongodb.com/download-center/community\">MongoDB official website</a> to download community server of MongoDB."
   ]
  },
  {
   "cell_type": "markdown",
   "metadata": {},
   "source": [
    "Unzip the files and put them under: ⁨Macintosh HD⁩ ▸ ⁨Users⁩ ▸ ⁨rayna⁩ (Shift + Command + G)"
   ]
  },
  {
   "cell_type": "markdown",
   "metadata": {},
   "source": [
    "## Configure Environment"
   ]
  },
  {
   "cell_type": "markdown",
   "metadata": {},
   "source": [
    "Open environment file: \n",
    "> open -e .bash_profile"
   ]
  },
  {
   "cell_type": "markdown",
   "metadata": {},
   "source": [
    "Add a new path in the opened file:   \n",
    "> \\export PATH=\"/Users/rayna/MongoDB/bin:\\\\$PATH\"  \n",
    "export PATH=\\\\${PATH}:/Users/rayna/MongoDB/bin"
   ]
  },
  {
   "cell_type": "markdown",
   "metadata": {},
   "source": [
    "Save the file: command + S"
   ]
  },
  {
   "cell_type": "markdown",
   "metadata": {},
   "source": [
    "Put the file in effect: \n",
    "> source .bash_profile"
   ]
  },
  {
   "cell_type": "markdown",
   "metadata": {},
   "source": [
    "Check:\n",
    "> mongod -versoin"
   ]
  },
  {
   "cell_type": "markdown",
   "metadata": {},
   "source": [
    "## Create Log and Data directory"
   ]
  },
  {
   "cell_type": "markdown",
   "metadata": {},
   "source": [
    "Create under the root directory: (⁨Macintosh HD⁩ ▸ ⁨data⁩ ▸ db)\n",
    "> sudo mkdir -p /data/db  "
   ]
  },
  {
   "cell_type": "markdown",
   "metadata": {},
   "source": [
    "## Run MongoDb"
   ]
  },
  {
   "cell_type": "markdown",
   "metadata": {},
   "source": [
    "Start MongoDB:\n",
    "> mongod"
   ]
  },
  {
   "cell_type": "markdown",
   "metadata": {},
   "source": [
    "Exit MongoDB:   \n",
    "> use admin;  \n",
    "> db.shutdownServer();"
   ]
  },
  {
   "cell_type": "markdown",
   "metadata": {},
   "source": [
    "## Connect MongoDB to Python"
   ]
  },
  {
   "cell_type": "markdown",
   "metadata": {},
   "source": [
    "Start MongoDB in terminal; Then start localhost connection in Studio3T;  \n",
    "import BSON folder in Studio3T. Import the \"Sample Collections\" folder rather than the \"Samples_pokemon\" folder."
   ]
  },
  {
   "cell_type": "code",
   "execution_count": 1,
   "metadata": {
    "scrolled": true
   },
   "outputs": [],
   "source": [
    "#!pip install pymongo"
   ]
  },
  {
   "cell_type": "code",
   "execution_count": 2,
   "metadata": {},
   "outputs": [],
   "source": [
    "from pymongo import MongoClient\n",
    "from pprint import pprint # pprint library is used to make the output look more pretty\n",
    "\n",
    "# connect to MongoDB\n",
    "client = MongoClient('localhost', 27017)\n",
    "# databse\n",
    "db = client['samples_pokemon']\n",
    "# collection\n",
    "coll = db['samples_pokemon']"
   ]
  },
  {
   "cell_type": "code",
   "execution_count": 3,
   "metadata": {
    "scrolled": true
   },
   "outputs": [
    {
     "data": {
      "text/plain": [
       "[{'name': 'Ivysaur',\n",
       "  'type': ['Grass', 'Poison'],\n",
       "  'candy': 'Bulbasaur Candy',\n",
       "  'candy_count': 100.0},\n",
       " {'name': 'Charmeleon',\n",
       "  'type': ['Fire'],\n",
       "  'candy': 'Charmander Candy',\n",
       "  'candy_count': 100.0},\n",
       " {'name': 'Wartortle',\n",
       "  'type': ['Water'],\n",
       "  'candy': 'Squirtle Candy',\n",
       "  'candy_count': 100.0},\n",
       " {'name': 'Metapod',\n",
       "  'type': ['Bug'],\n",
       "  'candy': 'Caterpie Candy',\n",
       "  'candy_count': 50.0},\n",
       " {'name': 'Kakuna',\n",
       "  'type': ['Bug', 'Poison'],\n",
       "  'candy': 'Weedle Candy',\n",
       "  'candy_count': 50.0},\n",
       " {'name': 'Pidgeotto',\n",
       "  'type': ['Normal', 'Flying'],\n",
       "  'candy': 'Pidgey Candy',\n",
       "  'candy_count': 50.0},\n",
       " {'name': 'Spearow',\n",
       "  'type': ['Normal', 'Flying'],\n",
       "  'candy': 'Spearow Candy',\n",
       "  'candy_count': 50.0},\n",
       " {'name': 'Ekans',\n",
       "  'type': ['Poison'],\n",
       "  'candy': 'Ekans Candy',\n",
       "  'candy_count': 50.0},\n",
       " {'name': 'Pikachu',\n",
       "  'type': ['Electric'],\n",
       "  'candy': 'Pikachu Candy',\n",
       "  'candy_count': 50.0},\n",
       " {'name': 'Sandshrew',\n",
       "  'type': ['Ground'],\n",
       "  'candy': 'Sandshrew Candy',\n",
       "  'candy_count': 50.0},\n",
       " {'name': 'Nidorina',\n",
       "  'type': ['Poison'],\n",
       "  'candy': 'Nidoran ♀ (Female) Candy',\n",
       "  'candy_count': 100.0},\n",
       " {'name': 'Nidorino',\n",
       "  'type': ['Poison'],\n",
       "  'candy': 'Nidoran ♂ (Male) Candy',\n",
       "  'candy_count': 100.0},\n",
       " {'name': 'Clefairy',\n",
       "  'type': ['Normal'],\n",
       "  'candy': 'Clefairy Candy',\n",
       "  'candy_count': 50.0},\n",
       " {'name': 'Vulpix',\n",
       "  'type': ['Fire'],\n",
       "  'candy': 'Vulpix Candy',\n",
       "  'candy_count': 50.0},\n",
       " {'name': 'Jigglypuff',\n",
       "  'type': ['Normal'],\n",
       "  'candy': 'Jigglypuff Candy',\n",
       "  'candy_count': 50.0},\n",
       " {'name': 'Zubat',\n",
       "  'type': ['Poison', 'Flying'],\n",
       "  'candy': 'Zubat Candy',\n",
       "  'candy_count': 50.0},\n",
       " {'name': 'Gloom',\n",
       "  'type': ['Grass', 'Poison'],\n",
       "  'candy': 'Oddish Candy',\n",
       "  'candy_count': 100.0},\n",
       " {'name': 'Paras',\n",
       "  'type': ['Bug', 'Grass'],\n",
       "  'candy': 'Paras Candy',\n",
       "  'candy_count': 50.0},\n",
       " {'name': 'Venonat',\n",
       "  'type': ['Bug', 'Poison'],\n",
       "  'candy': 'Venonat Candy',\n",
       "  'candy_count': 50.0},\n",
       " {'name': 'Diglett',\n",
       "  'type': ['Ground'],\n",
       "  'candy': 'Diglett Candy',\n",
       "  'candy_count': 50.0},\n",
       " {'name': 'Meowth',\n",
       "  'type': ['Normal'],\n",
       "  'candy': 'Meowth Candy',\n",
       "  'candy_count': 50.0},\n",
       " {'name': 'Psyduck',\n",
       "  'type': ['Water'],\n",
       "  'candy': 'Psyduck Candy',\n",
       "  'candy_count': 50.0},\n",
       " {'name': 'Mankey',\n",
       "  'type': ['Fighting'],\n",
       "  'candy': 'Mankey Candy',\n",
       "  'candy_count': 50.0},\n",
       " {'name': 'Growlithe',\n",
       "  'type': ['Fire'],\n",
       "  'candy': 'Growlithe Candy',\n",
       "  'candy_count': 50.0},\n",
       " {'name': 'Poliwhirl',\n",
       "  'type': ['Water'],\n",
       "  'candy': 'Poliwag Candy',\n",
       "  'candy_count': 100.0},\n",
       " {'name': 'Kadabra',\n",
       "  'type': ['Psychic'],\n",
       "  'candy': 'Abra Candy',\n",
       "  'candy_count': 100.0},\n",
       " {'name': 'Machoke',\n",
       "  'type': ['Fighting'],\n",
       "  'candy': 'Machop Candy',\n",
       "  'candy_count': 100.0},\n",
       " {'name': 'Weepinbell',\n",
       "  'type': ['Grass', 'Poison'],\n",
       "  'candy': 'Bellsprout Candy',\n",
       "  'candy_count': 100.0},\n",
       " {'name': 'Tentacool',\n",
       "  'type': ['Water', 'Poison'],\n",
       "  'candy': 'Tentacool Candy',\n",
       "  'candy_count': 50.0},\n",
       " {'name': 'Graveler',\n",
       "  'type': ['Rock', 'Ground'],\n",
       "  'candy': 'Geodude Candy',\n",
       "  'candy_count': 100.0},\n",
       " {'name': 'Ponyta',\n",
       "  'type': ['Fire'],\n",
       "  'candy': 'Ponyta Candy',\n",
       "  'candy_count': 50.0},\n",
       " {'name': 'Slowpoke',\n",
       "  'type': ['Water', 'Psychic'],\n",
       "  'candy': 'Slowpoke Candy',\n",
       "  'candy_count': 50.0},\n",
       " {'name': 'Magnemite',\n",
       "  'type': ['Electric'],\n",
       "  'candy': 'Magnemite Candy',\n",
       "  'candy_count': 50.0},\n",
       " {'name': 'Doduo',\n",
       "  'type': ['Normal', 'Flying'],\n",
       "  'candy': 'Doduo Candy',\n",
       "  'candy_count': 50.0},\n",
       " {'name': 'Seel',\n",
       "  'type': ['Water'],\n",
       "  'candy': 'Seel Candy',\n",
       "  'candy_count': 50.0},\n",
       " {'name': 'Grimer',\n",
       "  'type': ['Poison'],\n",
       "  'candy': 'Grimer Candy',\n",
       "  'candy_count': 50.0},\n",
       " {'name': 'Shellder',\n",
       "  'type': ['Water'],\n",
       "  'candy': 'Shellder Candy',\n",
       "  'candy_count': 50.0},\n",
       " {'name': 'Haunter',\n",
       "  'type': ['Ghost', 'Poison'],\n",
       "  'candy': 'Gastly Candy',\n",
       "  'candy_count': 100.0},\n",
       " {'name': 'Drowzee',\n",
       "  'type': ['Psychic'],\n",
       "  'candy': 'Drowzee Candy',\n",
       "  'candy_count': 50.0},\n",
       " {'name': 'Krabby',\n",
       "  'type': ['Water'],\n",
       "  'candy': 'Krabby Candy',\n",
       "  'candy_count': 50.0},\n",
       " {'name': 'Voltorb',\n",
       "  'type': ['Electric'],\n",
       "  'candy': 'Voltorb Candy',\n",
       "  'candy_count': 50.0},\n",
       " {'name': 'Exeggcute',\n",
       "  'type': ['Grass', 'Psychic'],\n",
       "  'candy': 'Exeggcute Candy',\n",
       "  'candy_count': 50.0},\n",
       " {'name': 'Cubone',\n",
       "  'type': ['Ground'],\n",
       "  'candy': 'Cubone Candy',\n",
       "  'candy_count': 50.0},\n",
       " {'name': 'Koffing',\n",
       "  'type': ['Poison'],\n",
       "  'candy': 'Koffing Candy',\n",
       "  'candy_count': 50.0},\n",
       " {'name': 'Rhyhorn',\n",
       "  'type': ['Ground', 'Rock'],\n",
       "  'candy': 'Rhyhorn Candy',\n",
       "  'candy_count': 50.0},\n",
       " {'name': 'Horsea',\n",
       "  'type': ['Water'],\n",
       "  'candy': 'Horsea Candy',\n",
       "  'candy_count': 50.0},\n",
       " {'name': 'Goldeen',\n",
       "  'type': ['Water'],\n",
       "  'candy': 'Goldeen Candy',\n",
       "  'candy_count': 50.0},\n",
       " {'name': 'Staryu',\n",
       "  'type': ['Water'],\n",
       "  'candy': 'Staryu Candy',\n",
       "  'candy_count': 50.0},\n",
       " {'name': 'Magikarp',\n",
       "  'type': ['Water'],\n",
       "  'candy': 'Magikarp Candy',\n",
       "  'candy_count': 400.0},\n",
       " {'name': 'Omanyte',\n",
       "  'type': ['Rock', 'Water'],\n",
       "  'candy': 'Omanyte Candy',\n",
       "  'candy_count': 50.0},\n",
       " {'name': 'Kabuto',\n",
       "  'type': ['Rock', 'Water'],\n",
       "  'candy': 'Kabuto Candy',\n",
       "  'candy_count': 50.0},\n",
       " {'name': 'Dragonair',\n",
       "  'type': ['Dragon'],\n",
       "  'candy': 'Dratini Candy',\n",
       "  'candy_count': 100.0}]"
      ]
     },
     "execution_count": 3,
     "metadata": {},
     "output_type": "execute_result"
    }
   ],
   "source": [
    "# querying and printing to screen all the Pokemon characters that have a candy_count of >=40.\n",
    "results = coll.find({\"candy_count\":{\"$gte\":40}},\\\n",
    "                    {\"name\":1, \"type\":1, \"candy\":1, \"candy_count\":1, \"_id\":0})\n",
    "list(results)"
   ]
  },
  {
   "cell_type": "code",
   "execution_count": null,
   "metadata": {},
   "outputs": [],
   "source": [
    "# for result in results:\n",
    "#     print(result)"
   ]
  },
  {
   "cell_type": "markdown",
   "metadata": {},
   "source": [
    "### Common Syntex Summary"
   ]
  },
  {
   "cell_type": "code",
   "execution_count": null,
   "metadata": {},
   "outputs": [],
   "source": [
    "select * from users  \n",
    "db.users.find() \n",
    "\n",
    "select * from users where age = 27  \n",
    "db.users.find({\"age\" : 27}) \n",
    "\n",
    "select * from users where \"username\" = \"joe\" and age = 27  \n",
    "db.users.find({\"username\" : \"joe\", \"age\" : 27}) \n",
    "\n",
    "select username, email from users  \n",
    "db.users.find({}, {\"username\" : 1, \"email\" : 1}) \n",
    "\n",
    "no case  \n",
    "# 即时加上了列筛选，_id也会返回；必须显式的阻止_id返回  \n",
    "db.users.find({}, {\"username\" : 1, \"_id\" : 0}) \n",
    "\n",
    "select * from users where age >=18 and age <= 30 \n",
    "#$lt(<) $lte(<=) $gt(>) $gte(>=)  \n",
    "db.users.find({\"age\" : {\"$gte\" : 18, \"$lte\" : 30}}) \n",
    "\n",
    "select * from users where username <> \"joe\"  \n",
    "db.users.find({\"username\" : {\"$ne\" : \"joe\"}}) \n",
    "\n",
    "select * from users where ticket_no in (725, 542, 390)  \n",
    "db.users.find({\"ticket_no\" : {\"$in\" : [725, 542, 390]}}) \n",
    "\n",
    "select * from users where ticket_no not in (725, 542, 390)  \n",
    "db.users.find({\"ticket_no\" : {\"$nin\" : [725, 542, 390]}}) \n",
    "\n",
    "select * form users where ticket_no = 725 or winner = true  \n",
    "db.users.find({\"$or\" : [{\"ticket_no\" : 725}, {\"winner\" : true}]}) \n",
    "\n",
    "select * from users where (id_num mod 5) = 1  \n",
    "db.users.find({\"id_num\" : {\"$mod\" : [5, 1]}}) \n",
    "\n",
    "select * from users where not (age = 27)  \n",
    "db.users.find({\"$not\": {\"age\" : 27}}) \n",
    "\n",
    "select * from users where username is null \n",
    "# 如果直接通过find({\"username\" : null})进行查询，那么连带\"没有username\"的纪录一并筛选出来  \n",
    "db.users.find({\"username\" : {\"$in\" : [null], \"$exists\" : true}}) \n",
    "\n",
    "# 正则查询，value是符合PCRE的表达式  \n",
    "db.users.find({\"name\" : /joey?/i}) \n",
    "\n",
    "# 对数组的查询, 字段fruit中，既包含\"apple\",又包含\"banana\"的纪录  \n",
    "db.food.find({fruit : {$all : [\"apple\", \"banana\"]}}) \n",
    "\n",
    "# 对数组的查询, 字段fruit中，第3个(从0开始)元素是peach的纪录  \n",
    "db.food.find({\"fruit.2\" : \"peach\"}) \n",
    "\n",
    "# 对数组的查询, 查询数组元素个数是3的记录，$size前面无法和其他的操作符复合使用  \n",
    "db.food.find({\"fruit\" : {\"$size\" : 3}}) \n",
    "\n",
    "# 对数组的查询，只返回数组comments中的前十条，还可以{\"$slice\" : -10}， {\"$slice\" : [23, 10]}; \n",
    "# 分别返回最后10条，和中间10条  \n",
    "db.users.findOne(criteria, {\"comments\" : {\"$slice\" : 10}}) \n",
    "\n",
    "# 嵌套查询  \n",
    "db.people.find({\"name.first\" : \"Joe\", \"name.last\" : \"Schmoe\"}) \n",
    "\n",
    "# 嵌套查询，仅当嵌套的元素是数组时使用,\n",
    "db.blog.find({\"comments\" : {\"$elemMatch\" : {\"author\" : \"joe\", \"score\" : {\"$gte\" : 5}}}}) \n",
    "\n",
    "# 复杂的查询，$where当然是非常方便的，但效率低下。\n",
    "# 对于复杂查询，考虑的顺序应当是 正则 -> MapReduce -> $where\n",
    "db.foo.find({\"$where\" : \"this.x + this.y == 10\"}) \n",
    "\n",
    "# $where可以支持javascript函数作为查询条件\n",
    "db.foo.find({\"$where\" : \"function() { return this.x + this.y == 10; }\"}) \n",
    "\n",
    "# 返回第(10, 11]条，按\"x\"进行排序; 三个limit的顺序是任意的，应该尽量避免skip中使用large-number\n",
    "db.foo.find().sort({\"x\" : 1}).limit(1).skip(10); "
   ]
  },
  {
   "cell_type": "code",
   "execution_count": null,
   "metadata": {},
   "outputs": [],
   "source": []
  }
 ],
 "metadata": {
  "hide_input": false,
  "kernelspec": {
   "display_name": "Python 3",
   "language": "python",
   "name": "python3"
  },
  "language_info": {
   "codemirror_mode": {
    "name": "ipython",
    "version": 3
   },
   "file_extension": ".py",
   "mimetype": "text/x-python",
   "name": "python",
   "nbconvert_exporter": "python",
   "pygments_lexer": "ipython3",
   "version": "3.7.1"
  },
  "toc": {
   "base_numbering": 1,
   "nav_menu": {},
   "number_sections": true,
   "sideBar": true,
   "skip_h1_title": false,
   "title_cell": "Table of Contents",
   "title_sidebar": "Contents",
   "toc_cell": false,
   "toc_position": {
    "height": "calc(100% - 180px)",
    "left": "10px",
    "top": "150px",
    "width": "275px"
   },
   "toc_section_display": true,
   "toc_window_display": true
  },
  "varInspector": {
   "cols": {
    "lenName": 16,
    "lenType": 16,
    "lenVar": 40
   },
   "kernels_config": {
    "python": {
     "delete_cmd_postfix": "",
     "delete_cmd_prefix": "del ",
     "library": "var_list.py",
     "varRefreshCmd": "print(var_dic_list())"
    },
    "r": {
     "delete_cmd_postfix": ") ",
     "delete_cmd_prefix": "rm(",
     "library": "var_list.r",
     "varRefreshCmd": "cat(var_dic_list()) "
    }
   },
   "types_to_exclude": [
    "module",
    "function",
    "builtin_function_or_method",
    "instance",
    "_Feature"
   ],
   "window_display": false
  }
 },
 "nbformat": 4,
 "nbformat_minor": 2
}
